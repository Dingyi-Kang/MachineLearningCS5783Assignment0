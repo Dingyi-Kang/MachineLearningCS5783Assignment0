{
  "nbformat": 4,
  "nbformat_minor": 0,
  "metadata": {
    "colab": {
      "provenance": [],
      "collapsed_sections": []
    },
    "kernelspec": {
      "name": "python3",
      "display_name": "Python 3"
    },
    "language_info": {
      "name": "python"
    }
  },
  "cells": [
    {
      "cell_type": "code",
      "execution_count": 1,
      "metadata": {
        "id": "NB8c64v1LBip"
      },
      "outputs": [],
      "source": [
        "# Dingyi Kang\n",
        "# Assignment0 problem3\n",
        "# A20308046\n",
        "\n",
        "import numpy as np\n"
      ]
    },
    {
      "cell_type": "code",
      "source": [
        "#Columns of a are variable coefficients, rows are individual equations\n",
        "#The first column represent the number of purchased soft tacos while the second column represents the number of purchased burritos\n",
        "#The first row represents the equation of mine while the second row represents the equation of my friend\n",
        "a = np.array([[3, 3], [4, 2]])\n",
        "\n",
        "#Columns of b are the final results of each individaul equation, i.e., the sum of money used by each individual\n",
        "#Rows of b represent the results of each individual equation\n",
        "b = np.array([[11.25], [10.0]])\n",
        "\n",
        "# Check to ensure matrix is nonsingular\n",
        "print(np.linalg.det(a))\n"
      ],
      "metadata": {
        "colab": {
          "base_uri": "https://localhost:8080/"
        },
        "id": "IiinyLx5Nmlg",
        "outputId": "6aef0614-effb-4db2-96f2-ae0a9796f944"
      },
      "execution_count": 2,
      "outputs": [
        {
          "output_type": "stream",
          "name": "stdout",
          "text": [
            "-6.0\n"
          ]
        }
      ]
    },
    {
      "cell_type": "code",
      "source": [
        "# Solve the equation\n",
        "result = np.linalg.solve(a, b)\n",
        "print(\"The sale price for a soft taco is $\" + str(result[0][0]))\n",
        "print(\"The sale price for a burrito is $\" + str(result[1][0]))"
      ],
      "metadata": {
        "colab": {
          "base_uri": "https://localhost:8080/"
        },
        "id": "RuruqiggObTa",
        "outputId": "d0e3508e-af53-4652-a654-ff02b64a806f"
      },
      "execution_count": 3,
      "outputs": [
        {
          "output_type": "stream",
          "name": "stdout",
          "text": [
            "The sale price for a soft taco is $1.25\n",
            "The sale price for a burrito is $2.5\n"
          ]
        }
      ]
    }
  ]
}